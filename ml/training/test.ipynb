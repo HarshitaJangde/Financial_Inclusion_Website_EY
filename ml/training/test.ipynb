{
 "cells": [
  {
   "cell_type": "code",
   "execution_count": 4,
   "metadata": {},
   "outputs": [],
   "source": [
    "import pandas as pd \n",
    "from sklearn.preprocessing import LabelEncoder, StandardScaler\n",
    "df = pd.read_csv(\"./data/MOCK_DATA.csv\")"
   ]
  },
  {
   "cell_type": "code",
   "execution_count": 5,
   "metadata": {},
   "outputs": [
    {
     "name": "stdout",
     "output_type": "stream",
     "text": [
      "Unique values in 'B' column:\n",
      "['commute' 'travel' 'educational' 'seasonal' 'personal']\n"
     ]
    }
   ],
   "source": [
    "unique_values = df['improvement'].unique()\n",
    "\n",
    "# Print the unique values\n",
    "print(\"Unique values in 'B' column:\")\n",
    "print(unique_values)"
   ]
  },
  {
   "cell_type": "code",
   "execution_count": 6,
   "metadata": {},
   "outputs": [],
   "source": [
    "df['savings_rate'] = df['monthly_savings'] / df['monthly_income']\n",
    "df['loan_ratio'] = df['monthly_loans'] / df['monthly_income']\n",
    "df['timeline_to_goal'] = (df['goal'] - df['monthly_savings']) / df['monthly_savings']\n",
    "df['financial_stability'] = df.apply(\n",
    "    lambda row: 'Stable' if row['savings_rate'] > 0.2 else ('At Risk' if row['loan_ratio'] > 0.3 else 'Critical'), axis=1\n",
    ")\n",
    "df['expense_anomalies'] = (df[['travel_expense', 'commute_expense', 'personal_expense',\n",
    "                            'educational_expense', 'seasonal_expense']].sum(axis=1) > 0.4 * df['monthly_income']).astype(int)\n",
    "\n",
    "# le_financial_stability = LabelEncoder()\n",
    "# df['financial_stability'] = le_financial_stability.fit_transform(df['financial_stability'])\n",
    "\n",
    "# Separate inputs and outputs\n",
    "X = df.drop(columns=[\"id\", \"improvement\", \"policies\", \"financial_stability\"])\n",
    "y1 = LabelEncoder().fit_transform(df[\"improvement\"])\n",
    "y2 = LabelEncoder().fit_transform(df[\"policies\"])\n",
    "y3 = LabelEncoder().fit_transform(df[\"financial_stability\"])\n",
    "\n",
    "# Fit the StandardScaler on the training data\n",
    "scaler = StandardScaler()\n",
    "X_scaled = scaler.fit_transform(X) "
   ]
  },
  {
   "cell_type": "code",
   "execution_count": 16,
   "metadata": {},
   "outputs": [
    {
     "name": "stdout",
     "output_type": "stream",
     "text": [
      "<class 'pandas.core.frame.DataFrame'>\n",
      "RangeIndex: 1000 entries, 0 to 999\n",
      "Data columns (total 17 columns):\n",
      " #   Column               Non-Null Count  Dtype  \n",
      "---  ------               --------------  -----  \n",
      " 0   id                   1000 non-null   int64  \n",
      " 1   monthly_income       1000 non-null   int64  \n",
      " 2   monthly_savings      1000 non-null   int64  \n",
      " 3   travel_expense       1000 non-null   int64  \n",
      " 4   commute_expense      1000 non-null   int64  \n",
      " 5   personal_expense     1000 non-null   int64  \n",
      " 6   educational_expense  1000 non-null   int64  \n",
      " 7   seasonal_expense     1000 non-null   int64  \n",
      " 8   monthly_loans        1000 non-null   int64  \n",
      " 9   goal                 1000 non-null   int64  \n",
      " 10  improvement          1000 non-null   object \n",
      " 11  policies             1000 non-null   object \n",
      " 12  savings_rate         1000 non-null   float64\n",
      " 13  loan_ratio           1000 non-null   float64\n",
      " 14  timeline_to_goal     1000 non-null   float64\n",
      " 15  financial_stability  1000 non-null   int32  \n",
      " 16  expense_anomalies    1000 non-null   int32  \n",
      "dtypes: float64(3), int32(2), int64(10), object(2)\n",
      "memory usage: 125.1+ KB\n"
     ]
    }
   ],
   "source": [
    "df.info()"
   ]
  },
  {
   "cell_type": "code",
   "execution_count": 17,
   "metadata": {},
   "outputs": [
    {
     "name": "stdout",
     "output_type": "stream",
     "text": [
      "<class 'pandas.core.frame.DataFrame'>\n",
      "RangeIndex: 1000 entries, 0 to 999\n",
      "Data columns (total 14 columns):\n",
      " #   Column               Non-Null Count  Dtype  \n",
      "---  ------               --------------  -----  \n",
      " 0   monthly_income       1000 non-null   int64  \n",
      " 1   monthly_savings      1000 non-null   int64  \n",
      " 2   travel_expense       1000 non-null   int64  \n",
      " 3   commute_expense      1000 non-null   int64  \n",
      " 4   personal_expense     1000 non-null   int64  \n",
      " 5   educational_expense  1000 non-null   int64  \n",
      " 6   seasonal_expense     1000 non-null   int64  \n",
      " 7   monthly_loans        1000 non-null   int64  \n",
      " 8   goal                 1000 non-null   int64  \n",
      " 9   savings_rate         1000 non-null   float64\n",
      " 10  loan_ratio           1000 non-null   float64\n",
      " 11  timeline_to_goal     1000 non-null   float64\n",
      " 12  financial_stability  1000 non-null   int32  \n",
      " 13  expense_anomalies    1000 non-null   int32  \n",
      "dtypes: float64(3), int32(2), int64(9)\n",
      "memory usage: 101.7 KB\n"
     ]
    }
   ],
   "source": [
    "X.info()"
   ]
  },
  {
   "cell_type": "code",
   "execution_count": null,
   "metadata": {},
   "outputs": [],
   "source": [
    "from sklearn.ensemble import RandomForestClassifier\n",
    "from sklearn.linear_model import LinearRegression\n",
    "from sklearn.cluster import KMeans\n",
    "from sklearn.ensemble import IsolationForest\n",
    "from sklearn.model_selection import train_test_split\n",
    "\n",
    "X_train, X_test, y_train, y_test = train_test_split(X, y, test_size=0.2, random_state=42)\n",
    "\n",
    "# Train model\n",
    "model = RandomForestClassifier()\n",
    "model.fit(X_train, y_train)"
   ]
  },
  {
   "cell_type": "code",
   "execution_count": null,
   "metadata": {},
   "outputs": [],
   "source": [
    "y_pred = predictions = model.predict(X_test)\n",
    "from sklearn.metrics import classification_report\n",
    "print(classification_report(y_test, y_pred))"
   ]
  }
 ],
 "metadata": {
  "kernelspec": {
   "display_name": "Python 3",
   "language": "python",
   "name": "python3"
  },
  "language_info": {
   "codemirror_mode": {
    "name": "ipython",
    "version": 3
   },
   "file_extension": ".py",
   "mimetype": "text/x-python",
   "name": "python",
   "nbconvert_exporter": "python",
   "pygments_lexer": "ipython3",
   "version": "3.11.0"
  }
 },
 "nbformat": 4,
 "nbformat_minor": 2
}
